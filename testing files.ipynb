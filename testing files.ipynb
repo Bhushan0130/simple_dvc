{
 "cells": [
  {
   "cell_type": "markdown",
   "id": "8cf27c2e",
   "metadata": {},
   "source": [
    "## Directory Creation"
   ]
  },
  {
   "cell_type": "code",
   "execution_count": 1,
   "id": "9eb26b28",
   "metadata": {},
   "outputs": [],
   "source": [
    "import os"
   ]
  },
  {
   "cell_type": "code",
   "execution_count": 2,
   "id": "974df9e2",
   "metadata": {},
   "outputs": [],
   "source": [
    "dirs = [\n",
    "    os.path.join('data','raw'),\n",
    "    os.path.join('data','processed'),\n",
    "    'notebooks',\n",
    "    'saved_mode',\n",
    "    'src'\n",
    "]"
   ]
  },
  {
   "cell_type": "code",
   "execution_count": 6,
   "id": "ce4c0f06",
   "metadata": {},
   "outputs": [],
   "source": [
    "for dir_ in dirs:\n",
    "    os.makedirs(dir_, exist_ok = True)\n",
    "    with open(os.path.join(dir_, '.gitkeep'),'w') as f:\n",
    "        pass"
   ]
  },
  {
   "cell_type": "code",
   "execution_count": 5,
   "id": "eea29a9c",
   "metadata": {},
   "outputs": [],
   "source": [
    "files = [\n",
    "    'dvc.yaml',\n",
    "    'params.yaml',\n",
    "    '.gitignore',\n",
    "    os.path.join('src', '__init__.py')\n",
    "]\n"
   ]
  },
  {
   "cell_type": "code",
   "execution_count": 8,
   "id": "acfa1251",
   "metadata": {},
   "outputs": [],
   "source": [
    "for file_ in files:\n",
    "    with open(file_, 'w') as f:\n",
    "        pass"
   ]
  },
  {
   "cell_type": "code",
   "execution_count": 12,
   "id": "0da2d197",
   "metadata": {},
   "outputs": [],
   "source": [
    "import pandas as pd\n",
    "\n",
    "df = pd.read_csv('https://raw.githubusercontent.com/Bhushan0130/Datasets/main/winequality-red.csv')"
   ]
  },
  {
   "cell_type": "code",
   "execution_count": 13,
   "id": "66de0feb",
   "metadata": {},
   "outputs": [
    {
     "data": {
      "text/plain": [
       "(1599, 12)"
      ]
     },
     "execution_count": 13,
     "metadata": {},
     "output_type": "execute_result"
    }
   ],
   "source": [
    "df.shape"
   ]
  },
  {
   "cell_type": "code",
   "execution_count": 14,
   "id": "08a5c5a8",
   "metadata": {},
   "outputs": [],
   "source": [
    "df.to_csv('winequality.csv')"
   ]
  },
  {
   "cell_type": "code",
   "execution_count": null,
   "id": "a308f8b5",
   "metadata": {},
   "outputs": [],
   "source": []
  }
 ],
 "metadata": {
  "kernelspec": {
   "display_name": "Python 3 (ipykernel)",
   "language": "python",
   "name": "python3"
  },
  "language_info": {
   "codemirror_mode": {
    "name": "ipython",
    "version": 3
   },
   "file_extension": ".py",
   "mimetype": "text/x-python",
   "name": "python",
   "nbconvert_exporter": "python",
   "pygments_lexer": "ipython3",
   "version": "3.8.13"
  }
 },
 "nbformat": 4,
 "nbformat_minor": 5
}
